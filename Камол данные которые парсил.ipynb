{
 "cells": [
  {
   "cell_type": "code",
   "execution_count": null,
   "id": "3dfecee0-e553-4898-84d3-9dfa2930180c",
   "metadata": {},
   "outputs": [],
   "source": [
    "!pip install tqdm requests beautifulsoup4"
   ]
  },
  {
   "cell_type": "code",
   "execution_count": 143,
   "id": "5d9d5395-ab94-4d0d-bb64-145347285f2a",
   "metadata": {},
   "outputs": [],
   "source": [
    "import time\n",
    "from time import sleep\n",
    "\n",
    "import requests\n",
    "from bs4 import BeautifulSoup\n",
    "from tqdm import tqdm, trange\n",
    "\n",
    "from collections import namedtuple\n",
    "from dataclasses import dataclass"
   ]
  },
  {
   "cell_type": "code",
   "execution_count": 30,
   "id": "e27d072a-8b98-4266-8daa-89f594a979b7",
   "metadata": {},
   "outputs": [],
   "source": [
    "BASE_URL = \"https://www.chitai-gorod.ru\"\n",
    "BEGIN_URL = f\"{BASE_URL}/catalog/books/\""
   ]
  },
  {
   "cell_type": "code",
   "execution_count": 31,
   "id": "75cd6837-62fb-43f5-b76b-c99b3c90984d",
   "metadata": {},
   "outputs": [],
   "source": [
    "r = requests.get(BEGIN_URL)\n",
    "soup = BeautifulSoup(r.text, 'lxml')"
   ]
  },
  {
   "cell_type": "code",
   "execution_count": 32,
   "id": "61f0b021-679a-4e87-ad63-43070a0cd0b7",
   "metadata": {},
   "outputs": [],
   "source": [
    "Genre = namedtuple(\"Genre\", [\"name\", \"href\"])"
   ]
  },
  {
   "cell_type": "markdown",
   "id": "2b15490a-51d6-4d6d-a4ce-9c4bfd60c257",
   "metadata": {},
   "source": [
    "### Определяем список жанров"
   ]
  },
  {
   "cell_type": "code",
   "execution_count": 33,
   "id": "5e34fc4f-9247-4c44-98f1-9a679e79b2fe",
   "metadata": {},
   "outputs": [
    {
     "data": {
      "text/plain": [
       "[<a class=\"navigation__link\" href=\"/catalog/books/khudozhestvennaya_literatura-9657/\">Художественная литература</a>,\n",
       " <a class=\"navigation__link\" href=\"/catalog/books/knigi_dlya_detey-9072/\">Книги для детей</a>,\n",
       " <a class=\"navigation__link\" href=\"/catalog/books/obrazovaniye-9405/\">Образование</a>,\n",
       " <a class=\"navigation__link\" href=\"/catalog/books/nauka_i_tekhnika-9170/\">Наука и техника</a>,\n",
       " <a class=\"navigation__link\" href=\"/catalog/books/obshchestvo-9304/\">Общество</a>,\n",
       " <a class=\"navigation__link\" href=\"/catalog/books/delovaya_literatura-8979/\">Деловая литература</a>,\n",
       " <a class=\"navigation__link\" href=\"/catalog/books/krasota_zdorovye_sport-9116/\">Красота. Здоровье. Спорт</a>,\n",
       " <a class=\"navigation__link\" href=\"/catalog/books/uvlecheniya-9564/\">Увлечения</a>,\n",
       " <a class=\"navigation__link\" href=\"/catalog/books/psikhologiya-9530/\">Психология</a>,\n",
       " <a class=\"navigation__link\" href=\"/catalog/books/ezoterika-9705/\">Эзотерика</a>,\n",
       " <a class=\"navigation__link\" href=\"/catalog/books/filosofiya_i_religiya-9645/\">Философия и религия</a>,\n",
       " <a class=\"navigation__link\" href=\"/catalog/books/iskusstvo-9035/\">Искусство</a>,\n",
       " <a class=\"navigation__link\" href=\"/catalog/books/podarochnyye_izdaniya-9469/\">Подарочные издания</a>,\n",
       " <a class=\"navigation__link\" href=\"/catalog/books/knigi_na_inostrannykh_yazykakh-9154/\">Книги на иностранных языках</a>,\n",
       " <a class=\"navigation__link\" href=\"/catalog/books/knigi_s_avtografom-18265/\">Книги с автографом</a>,\n",
       " <a class=\"navigation__link\" href=\"\"></a>]"
      ]
     },
     "execution_count": 33,
     "metadata": {},
     "output_type": "execute_result"
    }
   ],
   "source": [
    "genres_raw = soup.find_all(\"ul\", {\"class\": \"navigation navigation\"})[1]\n",
    "genres_raw = genres_raw.find_all(\"a\", {\"class\": \"navigation__link\"})\n",
    "genres_raw"
   ]
  },
  {
   "cell_type": "code",
   "execution_count": 34,
   "id": "88aa10de-1291-42ac-a88a-efaaf4cdc2a8",
   "metadata": {},
   "outputs": [
    {
     "data": {
      "text/plain": [
       "[Genre(name='Художественная литература', href='/catalog/books/khudozhestvennaya_literatura-9657/'),\n",
       " Genre(name='Книги для детей', href='/catalog/books/knigi_dlya_detey-9072/'),\n",
       " Genre(name='Образование', href='/catalog/books/obrazovaniye-9405/'),\n",
       " Genre(name='Наука и техника', href='/catalog/books/nauka_i_tekhnika-9170/'),\n",
       " Genre(name='Общество', href='/catalog/books/obshchestvo-9304/'),\n",
       " Genre(name='Деловая литература', href='/catalog/books/delovaya_literatura-8979/'),\n",
       " Genre(name='Красота. Здоровье. Спорт', href='/catalog/books/krasota_zdorovye_sport-9116/'),\n",
       " Genre(name='Увлечения', href='/catalog/books/uvlecheniya-9564/'),\n",
       " Genre(name='Психология', href='/catalog/books/psikhologiya-9530/'),\n",
       " Genre(name='Эзотерика', href='/catalog/books/ezoterika-9705/'),\n",
       " Genre(name='Философия и религия', href='/catalog/books/filosofiya_i_religiya-9645/'),\n",
       " Genre(name='Искусство', href='/catalog/books/iskusstvo-9035/'),\n",
       " Genre(name='Подарочные издания', href='/catalog/books/podarochnyye_izdaniya-9469/'),\n",
       " Genre(name='Книги на иностранных языках', href='/catalog/books/knigi_na_inostrannykh_yazykakh-9154/'),\n",
       " Genre(name='Книги с автографом', href='/catalog/books/knigi_s_avtografom-18265/')]"
      ]
     },
     "execution_count": 34,
     "metadata": {},
     "output_type": "execute_result"
    }
   ],
   "source": [
    "genres = [Genre(name=i.text, href=i['href']) for i in genres_raw if i.text]\n",
    "genres"
   ]
  },
  {
   "cell_type": "code",
   "execution_count": 269,
   "id": "38f51988-a5a6-4bda-ab43-e7d8ea32dcc8",
   "metadata": {},
   "outputs": [],
   "source": [
    "# структура описания книги\n",
    "\n",
    "@dataclass\n",
    "class Book:\n",
    "    title: str\n",
    "    author: str\n",
    "    genre: str\n",
    "    annotation: str\n",
    "    url: str\n",
    "    publisher: str\n",
    "    series: str\n",
    "    year: int\n",
    "    isbn: str\n",
    "    pages: int\n",
    "    height: float\n",
    "    width: float\n",
    "    thickness: float\n",
    "    cover_type: str\n",
    "    circulation: int # тираж\n",
    "    weight: float\n",
    "    age_restrictions: str\n",
    "    price: int\n",
    "    rating: float\n",
    "    rating_count: int # количество оценок\n",
    "    in_stock: bool"
   ]
  },
  {
   "cell_type": "markdown",
   "id": "62ce8fa3-58d1-47bb-af1b-a5ed082a68e2",
   "metadata": {},
   "source": [
    "### Парсинг книг\n",
    "\n",
    "Парсим отдельно книги по разным жанрам"
   ]
  },
  {
   "cell_type": "code",
   "execution_count": 270,
   "id": "b37996a9-21a6-4fc5-adde-3bf63775b083",
   "metadata": {
    "tags": []
   },
   "outputs": [],
   "source": [
    "# извлечение нужной информации со страницы книги\n",
    "def parse_book(url: str, genre: str):\n",
    "    resp = requests.get(f\"{BASE_URL}/{url}\")\n",
    "    soup = BeautifulSoup(resp.text, \"lxml\")\n",
    "    \n",
    "    if title := soup.find(\"h1\", {\"class\": \"product__title js-analytic-product-title\"}):\n",
    "        title = title.text.strip()\n",
    "    \n",
    "    if author := soup.find(\"a\", {\"class\": \"link product__author\"}):\n",
    "        author = author.text.strip()\n",
    "        \n",
    "    if annotation := soup.find(\"div\", {\"itemprop\": \"description\"}):\n",
    "        annotation = annotation.text.strip()\n",
    "    \n",
    "    if publisher := soup.find(\"span\", {\"itemprop\": \"publisher\"}):\n",
    "        publisher = publisher.text\n",
    "    \n",
    "    if series := soup.find(\"span\", {\"itemprop\": \"genre\"}):\n",
    "        series = series.text\n",
    "    else:\n",
    "        series = None\n",
    "        \n",
    "    if year := soup.find(\"div\", {\"itemprop\": \"datePublished\"}):\n",
    "        year = int(year.text)\n",
    "        \n",
    "    if isbn := soup.find(\"span\", {\"itemprop\": \"isbn\"}):\n",
    "        isbn = isbn.text.strip()\n",
    "    \n",
    "    \n",
    "    try:\n",
    "        if pages := soup.find(\"div\", {\"itemprop\": \"numberOfPages\"}):\n",
    "            pages = int(pages.text.strip())\n",
    "    except:\n",
    "        pages = None\n",
    "        \n",
    "    if size := soup.find(\"div\", text=\"Формат\"):\n",
    "        size = size.findNext(\"div\").text.strip()\n",
    "        height, width, thickness = (float(i) for i in size.split(\" x \"))\n",
    "    else:\n",
    "        height, width, thickness = (None, None, None)\n",
    "    \n",
    "    if cover_type := soup.find(\"div\", text=\"Тип обложки\"):\n",
    "        cover_type = cover_type.findNext(\"div\").text.strip()\n",
    "    \n",
    "    if circulation := soup.find(\"div\", text=\"Тираж\"):\n",
    "        circulation = int(circulation.findNext(\"div\").text.strip())\n",
    "        \n",
    "    if weight := soup.find(\"div\", text=\"Вес, г\"):\n",
    "        weight = float(weight.findNext(\"div\").text.strip())\n",
    "    \n",
    "    if age_restrictions := soup.find(\"div\", text=\"Возрастные ограничения\"):\n",
    "        age_restrictions = age_restrictions.findNext(\"div\").text.strip()\n",
    "    \n",
    "    \n",
    "    if price := soup.find(\"div\", {\"class\": \"price\"}):\n",
    "        price = price.text.replace(\"₽\", \"\")\n",
    "    \n",
    "    try:\n",
    "        rating = float(soup.find(\"span\", {\"class\": \"js__rating_count\"}).text)\n",
    "        rating_count = int(soup.find(\"span\", {\"class\": \"star-rating__text js__star_rating_text\"}).text.split()[0])\n",
    "    except:\n",
    "        rating = 0.0\n",
    "        rating_count = 0\n",
    "    \n",
    "    if in_stock := soup.find(\"span\", {\"class\": \"quantity__text\"}):\n",
    "        in_stock = in_stock.text == \"В наличии\"\n",
    "    else:\n",
    "        in_stock = False\n",
    "    \n",
    "    book = Book(\n",
    "        url=url,\n",
    "        title=title,\n",
    "        genre=genre,\n",
    "        author=author,\n",
    "        annotation=annotation,\n",
    "        publisher=publisher,\n",
    "        series=series,\n",
    "        year=year,\n",
    "        isbn=isbn,\n",
    "        pages=pages,\n",
    "        height=height,\n",
    "        width=width,\n",
    "        thickness=thickness,\n",
    "        cover_type=cover_type,\n",
    "        circulation=circulation,\n",
    "        weight=weight,\n",
    "        age_restrictions=age_restrictions,\n",
    "        price=price,\n",
    "        rating=rating,\n",
    "        rating_count=rating_count,\n",
    "        in_stock=in_stock\n",
    "    )\n",
    "    return book\n",
    "\n",
    "\n",
    "# пасринг книг заданного жанра\n",
    "def parse_genre(genre: Genre, page=1):\n",
    "    print(f\"\\tПарсинг страницы {page}\")\n",
    "    \n",
    "    r = requests.get(f\"{BASE_URL}/{genre.href}/?page={page}\")\n",
    "    soup = BeautifulSoup(r.text, \"lxml\")\n",
    "    books = soup.find_all(\"div\", {\"class\": \"product-card__info\"})\n",
    "    books_urls = [i.find(\"a\", {\"class\": \"product-card__link\"})[\"href\"] for i in books]\n",
    "    \n",
    "    # берем максиммум 50 первых страниц из списка книг\n",
    "    num_of_pages = min(50, int(soup.find_all(\"a\", {\"class\": \"pagination-item\"})[-2].text))\n",
    "    \n",
    "    \n",
    "    for url in books_urls:\n",
    "        book = parse_book(url, genre)\n",
    "        yield book\n",
    "    \n",
    "    if page < num_of_pages:\n",
    "        for book in parse_genre(genre=genre, page=page+1):\n",
    "            yield book\n"
   ]
  },
  {
   "cell_type": "code",
   "execution_count": 267,
   "id": "031a3de7-22ab-4dbc-8fff-185198e84719",
   "metadata": {
    "collapsed": true,
    "jupyter": {
     "outputs_hidden": true
    },
    "tags": []
   },
   "outputs": [
    {
     "name": "stdout",
     "output_type": "stream",
     "text": [
      "Парсинг жанра Художественная литература\n",
      "\tПарсинг страницы 1\n",
      "\tПарсинг страницы 2\n"
     ]
    },
    {
     "ename": "KeyboardInterrupt",
     "evalue": "",
     "output_type": "error",
     "traceback": [
      "\u001b[1;31m---------------------------------------------------------------------------\u001b[0m",
      "\u001b[1;31mKeyboardInterrupt\u001b[0m                         Traceback (most recent call last)",
      "Input \u001b[1;32mIn [267]\u001b[0m, in \u001b[0;36m<cell line: 5>\u001b[1;34m()\u001b[0m\n\u001b[0;32m      5\u001b[0m \u001b[38;5;28;01mfor\u001b[39;00m genre \u001b[38;5;129;01min\u001b[39;00m genres:\n\u001b[0;32m      6\u001b[0m     \u001b[38;5;28mprint\u001b[39m(\u001b[38;5;124mf\u001b[39m\u001b[38;5;124m\"\u001b[39m\u001b[38;5;124mПарсинг жанра \u001b[39m\u001b[38;5;132;01m{\u001b[39;00mgenre\u001b[38;5;241m.\u001b[39mname\u001b[38;5;132;01m}\u001b[39;00m\u001b[38;5;124m\"\u001b[39m)\n\u001b[1;32m----> 7\u001b[0m     \u001b[38;5;28;01mfor\u001b[39;00m book \u001b[38;5;129;01min\u001b[39;00m parse_genre(genre):\n\u001b[0;32m      8\u001b[0m         books\u001b[38;5;241m.\u001b[39mappend(book)\n\u001b[0;32m     10\u001b[0m \u001b[38;5;28mprint\u001b[39m(time\u001b[38;5;241m.\u001b[39mtime() \u001b[38;5;241m-\u001b[39m time_started)\n",
      "Input \u001b[1;32mIn [266]\u001b[0m, in \u001b[0;36mparse_genre\u001b[1;34m(genre, page)\u001b[0m\n\u001b[0;32m    106\u001b[0m     \u001b[38;5;28;01myield\u001b[39;00m book\n\u001b[0;32m    108\u001b[0m \u001b[38;5;28;01mif\u001b[39;00m page \u001b[38;5;241m<\u001b[39m num_of_pages:\n\u001b[1;32m--> 109\u001b[0m     \u001b[38;5;28;01mfor\u001b[39;00m book \u001b[38;5;129;01min\u001b[39;00m parse_genre(genre\u001b[38;5;241m=\u001b[39mgenre, page\u001b[38;5;241m=\u001b[39mpage\u001b[38;5;241m+\u001b[39m\u001b[38;5;241m1\u001b[39m):\n\u001b[0;32m    110\u001b[0m         \u001b[38;5;28;01myield\u001b[39;00m book\n",
      "Input \u001b[1;32mIn [266]\u001b[0m, in \u001b[0;36mparse_genre\u001b[1;34m(genre, page)\u001b[0m\n\u001b[0;32m    101\u001b[0m num_of_pages \u001b[38;5;241m=\u001b[39m \u001b[38;5;28mmin\u001b[39m(\u001b[38;5;241m50\u001b[39m, \u001b[38;5;28mint\u001b[39m(soup\u001b[38;5;241m.\u001b[39mfind_all(\u001b[38;5;124m\"\u001b[39m\u001b[38;5;124ma\u001b[39m\u001b[38;5;124m\"\u001b[39m, {\u001b[38;5;124m\"\u001b[39m\u001b[38;5;124mclass\u001b[39m\u001b[38;5;124m\"\u001b[39m: \u001b[38;5;124m\"\u001b[39m\u001b[38;5;124mpagination-item\u001b[39m\u001b[38;5;124m\"\u001b[39m})[\u001b[38;5;241m-\u001b[39m\u001b[38;5;241m2\u001b[39m]\u001b[38;5;241m.\u001b[39mtext))\n\u001b[0;32m    104\u001b[0m \u001b[38;5;28;01mfor\u001b[39;00m url \u001b[38;5;129;01min\u001b[39;00m books_urls:\n\u001b[1;32m--> 105\u001b[0m     book \u001b[38;5;241m=\u001b[39m \u001b[43mparse_book\u001b[49m\u001b[43m(\u001b[49m\u001b[43murl\u001b[49m\u001b[43m,\u001b[49m\u001b[43m \u001b[49m\u001b[43mgenre\u001b[49m\u001b[43m)\u001b[49m\n\u001b[0;32m    106\u001b[0m     \u001b[38;5;28;01myield\u001b[39;00m book\n\u001b[0;32m    108\u001b[0m \u001b[38;5;28;01mif\u001b[39;00m page \u001b[38;5;241m<\u001b[39m num_of_pages:\n",
      "Input \u001b[1;32mIn [266]\u001b[0m, in \u001b[0;36mparse_book\u001b[1;34m(url, genre)\u001b[0m\n\u001b[0;32m      1\u001b[0m \u001b[38;5;28;01mdef\u001b[39;00m \u001b[38;5;21mparse_book\u001b[39m(url: \u001b[38;5;28mstr\u001b[39m, genre: \u001b[38;5;28mstr\u001b[39m):\n\u001b[1;32m----> 2\u001b[0m     resp \u001b[38;5;241m=\u001b[39m \u001b[43mrequests\u001b[49m\u001b[38;5;241;43m.\u001b[39;49m\u001b[43mget\u001b[49m\u001b[43m(\u001b[49m\u001b[38;5;124;43mf\u001b[39;49m\u001b[38;5;124;43m\"\u001b[39;49m\u001b[38;5;132;43;01m{\u001b[39;49;00m\u001b[43mBASE_URL\u001b[49m\u001b[38;5;132;43;01m}\u001b[39;49;00m\u001b[38;5;124;43m/\u001b[39;49m\u001b[38;5;132;43;01m{\u001b[39;49;00m\u001b[43murl\u001b[49m\u001b[38;5;132;43;01m}\u001b[39;49;00m\u001b[38;5;124;43m\"\u001b[39;49m\u001b[43m)\u001b[49m\n\u001b[0;32m      3\u001b[0m     soup \u001b[38;5;241m=\u001b[39m BeautifulSoup(resp\u001b[38;5;241m.\u001b[39mtext, \u001b[38;5;124m\"\u001b[39m\u001b[38;5;124mlxml\u001b[39m\u001b[38;5;124m\"\u001b[39m)\n\u001b[0;32m      5\u001b[0m     \u001b[38;5;28;01mif\u001b[39;00m title \u001b[38;5;241m:=\u001b[39m soup\u001b[38;5;241m.\u001b[39mfind(\u001b[38;5;124m\"\u001b[39m\u001b[38;5;124mh1\u001b[39m\u001b[38;5;124m\"\u001b[39m, {\u001b[38;5;124m\"\u001b[39m\u001b[38;5;124mclass\u001b[39m\u001b[38;5;124m\"\u001b[39m: \u001b[38;5;124m\"\u001b[39m\u001b[38;5;124mproduct__title js-analytic-product-title\u001b[39m\u001b[38;5;124m\"\u001b[39m}):\n",
      "File \u001b[1;32m~\\.virtualenvs\\kamol-tqC2HXn6\\lib\\site-packages\\requests\\api.py:73\u001b[0m, in \u001b[0;36mget\u001b[1;34m(url, params, **kwargs)\u001b[0m\n\u001b[0;32m     62\u001b[0m \u001b[38;5;28;01mdef\u001b[39;00m \u001b[38;5;21mget\u001b[39m(url, params\u001b[38;5;241m=\u001b[39m\u001b[38;5;28;01mNone\u001b[39;00m, \u001b[38;5;241m*\u001b[39m\u001b[38;5;241m*\u001b[39mkwargs):\n\u001b[0;32m     63\u001b[0m     \u001b[38;5;124mr\u001b[39m\u001b[38;5;124;03m\"\"\"Sends a GET request.\u001b[39;00m\n\u001b[0;32m     64\u001b[0m \n\u001b[0;32m     65\u001b[0m \u001b[38;5;124;03m    :param url: URL for the new :class:`Request` object.\u001b[39;00m\n\u001b[1;32m   (...)\u001b[0m\n\u001b[0;32m     70\u001b[0m \u001b[38;5;124;03m    :rtype: requests.Response\u001b[39;00m\n\u001b[0;32m     71\u001b[0m \u001b[38;5;124;03m    \"\"\"\u001b[39;00m\n\u001b[1;32m---> 73\u001b[0m     \u001b[38;5;28;01mreturn\u001b[39;00m request(\u001b[38;5;124m\"\u001b[39m\u001b[38;5;124mget\u001b[39m\u001b[38;5;124m\"\u001b[39m, url, params\u001b[38;5;241m=\u001b[39mparams, \u001b[38;5;241m*\u001b[39m\u001b[38;5;241m*\u001b[39mkwargs)\n",
      "File \u001b[1;32m~\\.virtualenvs\\kamol-tqC2HXn6\\lib\\site-packages\\requests\\api.py:59\u001b[0m, in \u001b[0;36mrequest\u001b[1;34m(method, url, **kwargs)\u001b[0m\n\u001b[0;32m     55\u001b[0m \u001b[38;5;66;03m# By using the 'with' statement we are sure the session is closed, thus we\u001b[39;00m\n\u001b[0;32m     56\u001b[0m \u001b[38;5;66;03m# avoid leaving sockets open which can trigger a ResourceWarning in some\u001b[39;00m\n\u001b[0;32m     57\u001b[0m \u001b[38;5;66;03m# cases, and look like a memory leak in others.\u001b[39;00m\n\u001b[0;32m     58\u001b[0m \u001b[38;5;28;01mwith\u001b[39;00m sessions\u001b[38;5;241m.\u001b[39mSession() \u001b[38;5;28;01mas\u001b[39;00m session:\n\u001b[1;32m---> 59\u001b[0m     \u001b[38;5;28;01mreturn\u001b[39;00m session\u001b[38;5;241m.\u001b[39mrequest(method\u001b[38;5;241m=\u001b[39mmethod, url\u001b[38;5;241m=\u001b[39murl, \u001b[38;5;241m*\u001b[39m\u001b[38;5;241m*\u001b[39mkwargs)\n",
      "File \u001b[1;32m~\\.virtualenvs\\kamol-tqC2HXn6\\lib\\site-packages\\requests\\sessions.py:587\u001b[0m, in \u001b[0;36mSession.request\u001b[1;34m(self, method, url, params, data, headers, cookies, files, auth, timeout, allow_redirects, proxies, hooks, stream, verify, cert, json)\u001b[0m\n\u001b[0;32m    582\u001b[0m send_kwargs \u001b[38;5;241m=\u001b[39m {\n\u001b[0;32m    583\u001b[0m     \u001b[38;5;124m\"\u001b[39m\u001b[38;5;124mtimeout\u001b[39m\u001b[38;5;124m\"\u001b[39m: timeout,\n\u001b[0;32m    584\u001b[0m     \u001b[38;5;124m\"\u001b[39m\u001b[38;5;124mallow_redirects\u001b[39m\u001b[38;5;124m\"\u001b[39m: allow_redirects,\n\u001b[0;32m    585\u001b[0m }\n\u001b[0;32m    586\u001b[0m send_kwargs\u001b[38;5;241m.\u001b[39mupdate(settings)\n\u001b[1;32m--> 587\u001b[0m resp \u001b[38;5;241m=\u001b[39m \u001b[38;5;28mself\u001b[39m\u001b[38;5;241m.\u001b[39msend(prep, \u001b[38;5;241m*\u001b[39m\u001b[38;5;241m*\u001b[39msend_kwargs)\n\u001b[0;32m    589\u001b[0m \u001b[38;5;28;01mreturn\u001b[39;00m resp\n",
      "File \u001b[1;32m~\\.virtualenvs\\kamol-tqC2HXn6\\lib\\site-packages\\requests\\sessions.py:701\u001b[0m, in \u001b[0;36mSession.send\u001b[1;34m(self, request, **kwargs)\u001b[0m\n\u001b[0;32m    698\u001b[0m start \u001b[38;5;241m=\u001b[39m preferred_clock()\n\u001b[0;32m    700\u001b[0m \u001b[38;5;66;03m# Send the request\u001b[39;00m\n\u001b[1;32m--> 701\u001b[0m r \u001b[38;5;241m=\u001b[39m adapter\u001b[38;5;241m.\u001b[39msend(request, \u001b[38;5;241m*\u001b[39m\u001b[38;5;241m*\u001b[39mkwargs)\n\u001b[0;32m    703\u001b[0m \u001b[38;5;66;03m# Total elapsed time of the request (approximately)\u001b[39;00m\n\u001b[0;32m    704\u001b[0m elapsed \u001b[38;5;241m=\u001b[39m preferred_clock() \u001b[38;5;241m-\u001b[39m start\n",
      "File \u001b[1;32m~\\.virtualenvs\\kamol-tqC2HXn6\\lib\\site-packages\\requests\\adapters.py:489\u001b[0m, in \u001b[0;36mHTTPAdapter.send\u001b[1;34m(self, request, stream, timeout, verify, cert, proxies)\u001b[0m\n\u001b[0;32m    487\u001b[0m \u001b[38;5;28;01mtry\u001b[39;00m:\n\u001b[0;32m    488\u001b[0m     \u001b[38;5;28;01mif\u001b[39;00m \u001b[38;5;129;01mnot\u001b[39;00m chunked:\n\u001b[1;32m--> 489\u001b[0m         resp \u001b[38;5;241m=\u001b[39m \u001b[43mconn\u001b[49m\u001b[38;5;241;43m.\u001b[39;49m\u001b[43murlopen\u001b[49m\u001b[43m(\u001b[49m\n\u001b[0;32m    490\u001b[0m \u001b[43m            \u001b[49m\u001b[43mmethod\u001b[49m\u001b[38;5;241;43m=\u001b[39;49m\u001b[43mrequest\u001b[49m\u001b[38;5;241;43m.\u001b[39;49m\u001b[43mmethod\u001b[49m\u001b[43m,\u001b[49m\n\u001b[0;32m    491\u001b[0m \u001b[43m            \u001b[49m\u001b[43murl\u001b[49m\u001b[38;5;241;43m=\u001b[39;49m\u001b[43murl\u001b[49m\u001b[43m,\u001b[49m\n\u001b[0;32m    492\u001b[0m \u001b[43m            \u001b[49m\u001b[43mbody\u001b[49m\u001b[38;5;241;43m=\u001b[39;49m\u001b[43mrequest\u001b[49m\u001b[38;5;241;43m.\u001b[39;49m\u001b[43mbody\u001b[49m\u001b[43m,\u001b[49m\n\u001b[0;32m    493\u001b[0m \u001b[43m            \u001b[49m\u001b[43mheaders\u001b[49m\u001b[38;5;241;43m=\u001b[39;49m\u001b[43mrequest\u001b[49m\u001b[38;5;241;43m.\u001b[39;49m\u001b[43mheaders\u001b[49m\u001b[43m,\u001b[49m\n\u001b[0;32m    494\u001b[0m \u001b[43m            \u001b[49m\u001b[43mredirect\u001b[49m\u001b[38;5;241;43m=\u001b[39;49m\u001b[38;5;28;43;01mFalse\u001b[39;49;00m\u001b[43m,\u001b[49m\n\u001b[0;32m    495\u001b[0m \u001b[43m            \u001b[49m\u001b[43massert_same_host\u001b[49m\u001b[38;5;241;43m=\u001b[39;49m\u001b[38;5;28;43;01mFalse\u001b[39;49;00m\u001b[43m,\u001b[49m\n\u001b[0;32m    496\u001b[0m \u001b[43m            \u001b[49m\u001b[43mpreload_content\u001b[49m\u001b[38;5;241;43m=\u001b[39;49m\u001b[38;5;28;43;01mFalse\u001b[39;49;00m\u001b[43m,\u001b[49m\n\u001b[0;32m    497\u001b[0m \u001b[43m            \u001b[49m\u001b[43mdecode_content\u001b[49m\u001b[38;5;241;43m=\u001b[39;49m\u001b[38;5;28;43;01mFalse\u001b[39;49;00m\u001b[43m,\u001b[49m\n\u001b[0;32m    498\u001b[0m \u001b[43m            \u001b[49m\u001b[43mretries\u001b[49m\u001b[38;5;241;43m=\u001b[39;49m\u001b[38;5;28;43mself\u001b[39;49m\u001b[38;5;241;43m.\u001b[39;49m\u001b[43mmax_retries\u001b[49m\u001b[43m,\u001b[49m\n\u001b[0;32m    499\u001b[0m \u001b[43m            \u001b[49m\u001b[43mtimeout\u001b[49m\u001b[38;5;241;43m=\u001b[39;49m\u001b[43mtimeout\u001b[49m\u001b[43m,\u001b[49m\n\u001b[0;32m    500\u001b[0m \u001b[43m        \u001b[49m\u001b[43m)\u001b[49m\n\u001b[0;32m    502\u001b[0m     \u001b[38;5;66;03m# Send the request.\u001b[39;00m\n\u001b[0;32m    503\u001b[0m     \u001b[38;5;28;01melse\u001b[39;00m:\n\u001b[0;32m    504\u001b[0m         \u001b[38;5;28;01mif\u001b[39;00m \u001b[38;5;28mhasattr\u001b[39m(conn, \u001b[38;5;124m\"\u001b[39m\u001b[38;5;124mproxy_pool\u001b[39m\u001b[38;5;124m\"\u001b[39m):\n",
      "File \u001b[1;32m~\\.virtualenvs\\kamol-tqC2HXn6\\lib\\site-packages\\urllib3\\connectionpool.py:703\u001b[0m, in \u001b[0;36mHTTPConnectionPool.urlopen\u001b[1;34m(self, method, url, body, headers, retries, redirect, assert_same_host, timeout, pool_timeout, release_conn, chunked, body_pos, **response_kw)\u001b[0m\n\u001b[0;32m    700\u001b[0m     \u001b[38;5;28mself\u001b[39m\u001b[38;5;241m.\u001b[39m_prepare_proxy(conn)\n\u001b[0;32m    702\u001b[0m \u001b[38;5;66;03m# Make the request on the httplib connection object.\u001b[39;00m\n\u001b[1;32m--> 703\u001b[0m httplib_response \u001b[38;5;241m=\u001b[39m \u001b[38;5;28;43mself\u001b[39;49m\u001b[38;5;241;43m.\u001b[39;49m\u001b[43m_make_request\u001b[49m\u001b[43m(\u001b[49m\n\u001b[0;32m    704\u001b[0m \u001b[43m    \u001b[49m\u001b[43mconn\u001b[49m\u001b[43m,\u001b[49m\n\u001b[0;32m    705\u001b[0m \u001b[43m    \u001b[49m\u001b[43mmethod\u001b[49m\u001b[43m,\u001b[49m\n\u001b[0;32m    706\u001b[0m \u001b[43m    \u001b[49m\u001b[43murl\u001b[49m\u001b[43m,\u001b[49m\n\u001b[0;32m    707\u001b[0m \u001b[43m    \u001b[49m\u001b[43mtimeout\u001b[49m\u001b[38;5;241;43m=\u001b[39;49m\u001b[43mtimeout_obj\u001b[49m\u001b[43m,\u001b[49m\n\u001b[0;32m    708\u001b[0m \u001b[43m    \u001b[49m\u001b[43mbody\u001b[49m\u001b[38;5;241;43m=\u001b[39;49m\u001b[43mbody\u001b[49m\u001b[43m,\u001b[49m\n\u001b[0;32m    709\u001b[0m \u001b[43m    \u001b[49m\u001b[43mheaders\u001b[49m\u001b[38;5;241;43m=\u001b[39;49m\u001b[43mheaders\u001b[49m\u001b[43m,\u001b[49m\n\u001b[0;32m    710\u001b[0m \u001b[43m    \u001b[49m\u001b[43mchunked\u001b[49m\u001b[38;5;241;43m=\u001b[39;49m\u001b[43mchunked\u001b[49m\u001b[43m,\u001b[49m\n\u001b[0;32m    711\u001b[0m \u001b[43m\u001b[49m\u001b[43m)\u001b[49m\n\u001b[0;32m    713\u001b[0m \u001b[38;5;66;03m# If we're going to release the connection in ``finally:``, then\u001b[39;00m\n\u001b[0;32m    714\u001b[0m \u001b[38;5;66;03m# the response doesn't need to know about the connection. Otherwise\u001b[39;00m\n\u001b[0;32m    715\u001b[0m \u001b[38;5;66;03m# it will also try to release it and we'll have a double-release\u001b[39;00m\n\u001b[0;32m    716\u001b[0m \u001b[38;5;66;03m# mess.\u001b[39;00m\n\u001b[0;32m    717\u001b[0m response_conn \u001b[38;5;241m=\u001b[39m conn \u001b[38;5;28;01mif\u001b[39;00m \u001b[38;5;129;01mnot\u001b[39;00m release_conn \u001b[38;5;28;01melse\u001b[39;00m \u001b[38;5;28;01mNone\u001b[39;00m\n",
      "File \u001b[1;32m~\\.virtualenvs\\kamol-tqC2HXn6\\lib\\site-packages\\urllib3\\connectionpool.py:449\u001b[0m, in \u001b[0;36mHTTPConnectionPool._make_request\u001b[1;34m(self, conn, method, url, timeout, chunked, **httplib_request_kw)\u001b[0m\n\u001b[0;32m    444\u001b[0m             httplib_response \u001b[38;5;241m=\u001b[39m conn\u001b[38;5;241m.\u001b[39mgetresponse()\n\u001b[0;32m    445\u001b[0m         \u001b[38;5;28;01mexcept\u001b[39;00m \u001b[38;5;167;01mBaseException\u001b[39;00m \u001b[38;5;28;01mas\u001b[39;00m e:\n\u001b[0;32m    446\u001b[0m             \u001b[38;5;66;03m# Remove the TypeError from the exception chain in\u001b[39;00m\n\u001b[0;32m    447\u001b[0m             \u001b[38;5;66;03m# Python 3 (including for exceptions like SystemExit).\u001b[39;00m\n\u001b[0;32m    448\u001b[0m             \u001b[38;5;66;03m# Otherwise it looks like a bug in the code.\u001b[39;00m\n\u001b[1;32m--> 449\u001b[0m             \u001b[43msix\u001b[49m\u001b[38;5;241;43m.\u001b[39;49m\u001b[43mraise_from\u001b[49m\u001b[43m(\u001b[49m\u001b[43me\u001b[49m\u001b[43m,\u001b[49m\u001b[43m \u001b[49m\u001b[38;5;28;43;01mNone\u001b[39;49;00m\u001b[43m)\u001b[49m\n\u001b[0;32m    450\u001b[0m \u001b[38;5;28;01mexcept\u001b[39;00m (SocketTimeout, BaseSSLError, SocketError) \u001b[38;5;28;01mas\u001b[39;00m e:\n\u001b[0;32m    451\u001b[0m     \u001b[38;5;28mself\u001b[39m\u001b[38;5;241m.\u001b[39m_raise_timeout(err\u001b[38;5;241m=\u001b[39me, url\u001b[38;5;241m=\u001b[39murl, timeout_value\u001b[38;5;241m=\u001b[39mread_timeout)\n",
      "File \u001b[1;32m<string>:3\u001b[0m, in \u001b[0;36mraise_from\u001b[1;34m(value, from_value)\u001b[0m\n",
      "File \u001b[1;32m~\\.virtualenvs\\kamol-tqC2HXn6\\lib\\site-packages\\urllib3\\connectionpool.py:444\u001b[0m, in \u001b[0;36mHTTPConnectionPool._make_request\u001b[1;34m(self, conn, method, url, timeout, chunked, **httplib_request_kw)\u001b[0m\n\u001b[0;32m    441\u001b[0m \u001b[38;5;28;01mexcept\u001b[39;00m \u001b[38;5;167;01mTypeError\u001b[39;00m:\n\u001b[0;32m    442\u001b[0m     \u001b[38;5;66;03m# Python 3\u001b[39;00m\n\u001b[0;32m    443\u001b[0m     \u001b[38;5;28;01mtry\u001b[39;00m:\n\u001b[1;32m--> 444\u001b[0m         httplib_response \u001b[38;5;241m=\u001b[39m \u001b[43mconn\u001b[49m\u001b[38;5;241;43m.\u001b[39;49m\u001b[43mgetresponse\u001b[49m\u001b[43m(\u001b[49m\u001b[43m)\u001b[49m\n\u001b[0;32m    445\u001b[0m     \u001b[38;5;28;01mexcept\u001b[39;00m \u001b[38;5;167;01mBaseException\u001b[39;00m \u001b[38;5;28;01mas\u001b[39;00m e:\n\u001b[0;32m    446\u001b[0m         \u001b[38;5;66;03m# Remove the TypeError from the exception chain in\u001b[39;00m\n\u001b[0;32m    447\u001b[0m         \u001b[38;5;66;03m# Python 3 (including for exceptions like SystemExit).\u001b[39;00m\n\u001b[0;32m    448\u001b[0m         \u001b[38;5;66;03m# Otherwise it looks like a bug in the code.\u001b[39;00m\n\u001b[0;32m    449\u001b[0m         six\u001b[38;5;241m.\u001b[39mraise_from(e, \u001b[38;5;28;01mNone\u001b[39;00m)\n",
      "File \u001b[1;32m~\\AppData\\Local\\Programs\\Python\\Python310\\lib\\http\\client.py:1374\u001b[0m, in \u001b[0;36mHTTPConnection.getresponse\u001b[1;34m(self)\u001b[0m\n\u001b[0;32m   1372\u001b[0m \u001b[38;5;28;01mtry\u001b[39;00m:\n\u001b[0;32m   1373\u001b[0m     \u001b[38;5;28;01mtry\u001b[39;00m:\n\u001b[1;32m-> 1374\u001b[0m         \u001b[43mresponse\u001b[49m\u001b[38;5;241;43m.\u001b[39;49m\u001b[43mbegin\u001b[49m\u001b[43m(\u001b[49m\u001b[43m)\u001b[49m\n\u001b[0;32m   1375\u001b[0m     \u001b[38;5;28;01mexcept\u001b[39;00m \u001b[38;5;167;01mConnectionError\u001b[39;00m:\n\u001b[0;32m   1376\u001b[0m         \u001b[38;5;28mself\u001b[39m\u001b[38;5;241m.\u001b[39mclose()\n",
      "File \u001b[1;32m~\\AppData\\Local\\Programs\\Python\\Python310\\lib\\http\\client.py:318\u001b[0m, in \u001b[0;36mHTTPResponse.begin\u001b[1;34m(self)\u001b[0m\n\u001b[0;32m    316\u001b[0m \u001b[38;5;66;03m# read until we get a non-100 response\u001b[39;00m\n\u001b[0;32m    317\u001b[0m \u001b[38;5;28;01mwhile\u001b[39;00m \u001b[38;5;28;01mTrue\u001b[39;00m:\n\u001b[1;32m--> 318\u001b[0m     version, status, reason \u001b[38;5;241m=\u001b[39m \u001b[38;5;28;43mself\u001b[39;49m\u001b[38;5;241;43m.\u001b[39;49m\u001b[43m_read_status\u001b[49m\u001b[43m(\u001b[49m\u001b[43m)\u001b[49m\n\u001b[0;32m    319\u001b[0m     \u001b[38;5;28;01mif\u001b[39;00m status \u001b[38;5;241m!=\u001b[39m CONTINUE:\n\u001b[0;32m    320\u001b[0m         \u001b[38;5;28;01mbreak\u001b[39;00m\n",
      "File \u001b[1;32m~\\AppData\\Local\\Programs\\Python\\Python310\\lib\\http\\client.py:279\u001b[0m, in \u001b[0;36mHTTPResponse._read_status\u001b[1;34m(self)\u001b[0m\n\u001b[0;32m    278\u001b[0m \u001b[38;5;28;01mdef\u001b[39;00m \u001b[38;5;21m_read_status\u001b[39m(\u001b[38;5;28mself\u001b[39m):\n\u001b[1;32m--> 279\u001b[0m     line \u001b[38;5;241m=\u001b[39m \u001b[38;5;28mstr\u001b[39m(\u001b[38;5;28;43mself\u001b[39;49m\u001b[38;5;241;43m.\u001b[39;49m\u001b[43mfp\u001b[49m\u001b[38;5;241;43m.\u001b[39;49m\u001b[43mreadline\u001b[49m\u001b[43m(\u001b[49m\u001b[43m_MAXLINE\u001b[49m\u001b[43m \u001b[49m\u001b[38;5;241;43m+\u001b[39;49m\u001b[43m \u001b[49m\u001b[38;5;241;43m1\u001b[39;49m\u001b[43m)\u001b[49m, \u001b[38;5;124m\"\u001b[39m\u001b[38;5;124miso-8859-1\u001b[39m\u001b[38;5;124m\"\u001b[39m)\n\u001b[0;32m    280\u001b[0m     \u001b[38;5;28;01mif\u001b[39;00m \u001b[38;5;28mlen\u001b[39m(line) \u001b[38;5;241m>\u001b[39m _MAXLINE:\n\u001b[0;32m    281\u001b[0m         \u001b[38;5;28;01mraise\u001b[39;00m LineTooLong(\u001b[38;5;124m\"\u001b[39m\u001b[38;5;124mstatus line\u001b[39m\u001b[38;5;124m\"\u001b[39m)\n",
      "File \u001b[1;32m~\\AppData\\Local\\Programs\\Python\\Python310\\lib\\socket.py:705\u001b[0m, in \u001b[0;36mSocketIO.readinto\u001b[1;34m(self, b)\u001b[0m\n\u001b[0;32m    703\u001b[0m \u001b[38;5;28;01mwhile\u001b[39;00m \u001b[38;5;28;01mTrue\u001b[39;00m:\n\u001b[0;32m    704\u001b[0m     \u001b[38;5;28;01mtry\u001b[39;00m:\n\u001b[1;32m--> 705\u001b[0m         \u001b[38;5;28;01mreturn\u001b[39;00m \u001b[38;5;28;43mself\u001b[39;49m\u001b[38;5;241;43m.\u001b[39;49m\u001b[43m_sock\u001b[49m\u001b[38;5;241;43m.\u001b[39;49m\u001b[43mrecv_into\u001b[49m\u001b[43m(\u001b[49m\u001b[43mb\u001b[49m\u001b[43m)\u001b[49m\n\u001b[0;32m    706\u001b[0m     \u001b[38;5;28;01mexcept\u001b[39;00m timeout:\n\u001b[0;32m    707\u001b[0m         \u001b[38;5;28mself\u001b[39m\u001b[38;5;241m.\u001b[39m_timeout_occurred \u001b[38;5;241m=\u001b[39m \u001b[38;5;28;01mTrue\u001b[39;00m\n",
      "File \u001b[1;32m~\\AppData\\Local\\Programs\\Python\\Python310\\lib\\ssl.py:1273\u001b[0m, in \u001b[0;36mSSLSocket.recv_into\u001b[1;34m(self, buffer, nbytes, flags)\u001b[0m\n\u001b[0;32m   1269\u001b[0m     \u001b[38;5;28;01mif\u001b[39;00m flags \u001b[38;5;241m!=\u001b[39m \u001b[38;5;241m0\u001b[39m:\n\u001b[0;32m   1270\u001b[0m         \u001b[38;5;28;01mraise\u001b[39;00m \u001b[38;5;167;01mValueError\u001b[39;00m(\n\u001b[0;32m   1271\u001b[0m           \u001b[38;5;124m\"\u001b[39m\u001b[38;5;124mnon-zero flags not allowed in calls to recv_into() on \u001b[39m\u001b[38;5;132;01m%s\u001b[39;00m\u001b[38;5;124m\"\u001b[39m \u001b[38;5;241m%\u001b[39m\n\u001b[0;32m   1272\u001b[0m           \u001b[38;5;28mself\u001b[39m\u001b[38;5;241m.\u001b[39m\u001b[38;5;18m__class__\u001b[39m)\n\u001b[1;32m-> 1273\u001b[0m     \u001b[38;5;28;01mreturn\u001b[39;00m \u001b[38;5;28;43mself\u001b[39;49m\u001b[38;5;241;43m.\u001b[39;49m\u001b[43mread\u001b[49m\u001b[43m(\u001b[49m\u001b[43mnbytes\u001b[49m\u001b[43m,\u001b[49m\u001b[43m \u001b[49m\u001b[43mbuffer\u001b[49m\u001b[43m)\u001b[49m\n\u001b[0;32m   1274\u001b[0m \u001b[38;5;28;01melse\u001b[39;00m:\n\u001b[0;32m   1275\u001b[0m     \u001b[38;5;28;01mreturn\u001b[39;00m \u001b[38;5;28msuper\u001b[39m()\u001b[38;5;241m.\u001b[39mrecv_into(buffer, nbytes, flags)\n",
      "File \u001b[1;32m~\\AppData\\Local\\Programs\\Python\\Python310\\lib\\ssl.py:1129\u001b[0m, in \u001b[0;36mSSLSocket.read\u001b[1;34m(self, len, buffer)\u001b[0m\n\u001b[0;32m   1127\u001b[0m \u001b[38;5;28;01mtry\u001b[39;00m:\n\u001b[0;32m   1128\u001b[0m     \u001b[38;5;28;01mif\u001b[39;00m buffer \u001b[38;5;129;01mis\u001b[39;00m \u001b[38;5;129;01mnot\u001b[39;00m \u001b[38;5;28;01mNone\u001b[39;00m:\n\u001b[1;32m-> 1129\u001b[0m         \u001b[38;5;28;01mreturn\u001b[39;00m \u001b[38;5;28;43mself\u001b[39;49m\u001b[38;5;241;43m.\u001b[39;49m\u001b[43m_sslobj\u001b[49m\u001b[38;5;241;43m.\u001b[39;49m\u001b[43mread\u001b[49m\u001b[43m(\u001b[49m\u001b[38;5;28;43mlen\u001b[39;49m\u001b[43m,\u001b[49m\u001b[43m \u001b[49m\u001b[43mbuffer\u001b[49m\u001b[43m)\u001b[49m\n\u001b[0;32m   1130\u001b[0m     \u001b[38;5;28;01melse\u001b[39;00m:\n\u001b[0;32m   1131\u001b[0m         \u001b[38;5;28;01mreturn\u001b[39;00m \u001b[38;5;28mself\u001b[39m\u001b[38;5;241m.\u001b[39m_sslobj\u001b[38;5;241m.\u001b[39mread(\u001b[38;5;28mlen\u001b[39m)\n",
      "\u001b[1;31mKeyboardInterrupt\u001b[0m: "
     ]
    }
   ],
   "source": [
    "books = []\n",
    "for genre in genres:\n",
    "    print(f\"Парсинг жанра {genre.name}\")\n",
    "    for book in parse_genre(genre):\n",
    "        books.append(book)"
   ]
  },
  {
   "cell_type": "code",
   "execution_count": 166,
   "id": "77ce36b0-3125-4361-bb09-3152d8a5bb86",
   "metadata": {},
   "outputs": [],
   "source": [
    "import pandas as pd"
   ]
  },
  {
   "cell_type": "code",
   "execution_count": 183,
   "id": "0fbfeef9-2661-4fad-8485-692bec36aa5c",
   "metadata": {},
   "outputs": [
    {
     "data": {
      "text/html": [
       "<div>\n",
       "<style scoped>\n",
       "    .dataframe tbody tr th:only-of-type {\n",
       "        vertical-align: middle;\n",
       "    }\n",
       "\n",
       "    .dataframe tbody tr th {\n",
       "        vertical-align: top;\n",
       "    }\n",
       "\n",
       "    .dataframe thead th {\n",
       "        text-align: right;\n",
       "    }\n",
       "</style>\n",
       "<table border=\"1\" class=\"dataframe\">\n",
       "  <thead>\n",
       "    <tr style=\"text-align: right;\">\n",
       "      <th></th>\n",
       "      <th>title</th>\n",
       "      <th>author</th>\n",
       "      <th>genre</th>\n",
       "      <th>annotation</th>\n",
       "      <th>url</th>\n",
       "      <th>publisher</th>\n",
       "      <th>series</th>\n",
       "      <th>year</th>\n",
       "      <th>isbn</th>\n",
       "      <th>pages</th>\n",
       "      <th>...</th>\n",
       "      <th>width</th>\n",
       "      <th>thickness</th>\n",
       "      <th>cover_type</th>\n",
       "      <th>circulation</th>\n",
       "      <th>weight</th>\n",
       "      <th>age_restrictions</th>\n",
       "      <th>price</th>\n",
       "      <th>rating</th>\n",
       "      <th>rating_count</th>\n",
       "      <th>in_stock</th>\n",
       "    </tr>\n",
       "  </thead>\n",
       "  <tbody>\n",
       "    <tr>\n",
       "      <th>0</th>\n",
       "      <td>Каменное сердце</td>\n",
       "      <td>К.Дж. Сэнсом</td>\n",
       "      <td>(Художественная литература, /catalog/books/khu...</td>\n",
       "      <td>Лето 1545 года. Франция стягивает армаду своих...</td>\n",
       "      <td>/catalog/book/2915753/</td>\n",
       "      <td>Азбука</td>\n",
       "      <td>The Big Book</td>\n",
       "      <td>2022.0</td>\n",
       "      <td>978-5-389-21286-2</td>\n",
       "      <td>800.0</td>\n",
       "      <td>...</td>\n",
       "      <td>11.5</td>\n",
       "      <td>3.0</td>\n",
       "      <td>Мягкая глянцевая</td>\n",
       "      <td>5000.0</td>\n",
       "      <td>370.0</td>\n",
       "      <td>16+</td>\n",
       "      <td>267</td>\n",
       "      <td>5.0</td>\n",
       "      <td>1</td>\n",
       "      <td>True</td>\n",
       "    </tr>\n",
       "    <tr>\n",
       "      <th>1</th>\n",
       "      <td>Однажды ночью в августе</td>\n",
       "      <td>Виктория Хислоп</td>\n",
       "      <td>(Художественная литература, /catalog/books/khu...</td>\n",
       "      <td>Спустя пятнадцать лет после того, как увидел с...</td>\n",
       "      <td>/catalog/book/2915752/</td>\n",
       "      <td>Азбука</td>\n",
       "      <td>The Big Book</td>\n",
       "      <td>2022.0</td>\n",
       "      <td>978-5-389-21284-8</td>\n",
       "      <td>384.0</td>\n",
       "      <td>...</td>\n",
       "      <td>11.5</td>\n",
       "      <td>1.5</td>\n",
       "      <td>Мягкая глянцевая</td>\n",
       "      <td>5000.0</td>\n",
       "      <td>180.0</td>\n",
       "      <td>16+</td>\n",
       "      <td>193</td>\n",
       "      <td>0.0</td>\n",
       "      <td>0</td>\n",
       "      <td>True</td>\n",
       "    </tr>\n",
       "    <tr>\n",
       "      <th>2</th>\n",
       "      <td>Стамбульский бастард</td>\n",
       "      <td>Элиф Шафак</td>\n",
       "      <td>(Художественная литература, /catalog/books/khu...</td>\n",
       "      <td>Роман «Стамбульский бастард» представляет исто...</td>\n",
       "      <td>/catalog/book/2915751/</td>\n",
       "      <td>Азбука</td>\n",
       "      <td>The Big Book</td>\n",
       "      <td>2022.0</td>\n",
       "      <td>978-5-389-21285-5</td>\n",
       "      <td>448.0</td>\n",
       "      <td>...</td>\n",
       "      <td>11.5</td>\n",
       "      <td>1.7</td>\n",
       "      <td>Мягкая глянцевая</td>\n",
       "      <td>5000.0</td>\n",
       "      <td>210.0</td>\n",
       "      <td>16+</td>\n",
       "      <td>193</td>\n",
       "      <td>0.0</td>\n",
       "      <td>0</td>\n",
       "      <td>True</td>\n",
       "    </tr>\n",
       "    <tr>\n",
       "      <th>3</th>\n",
       "      <td>Сюзанна</td>\n",
       "      <td>Бузлуков П.</td>\n",
       "      <td>(Художественная литература, /catalog/books/khu...</td>\n",
       "      <td>Пусть родилась я не поэтом,\\r\\n— Пусть торгашо...</td>\n",
       "      <td>/catalog/book/2915731/</td>\n",
       "      <td>Де''Либри</td>\n",
       "      <td>None</td>\n",
       "      <td>2022.0</td>\n",
       "      <td>978-5-4491-1387-0</td>\n",
       "      <td>664.0</td>\n",
       "      <td>...</td>\n",
       "      <td>15.3</td>\n",
       "      <td>4.0</td>\n",
       "      <td>Твердая глянцевая</td>\n",
       "      <td>NaN</td>\n",
       "      <td>920.0</td>\n",
       "      <td>16+</td>\n",
       "      <td>403</td>\n",
       "      <td>0.0</td>\n",
       "      <td>0</td>\n",
       "      <td>False</td>\n",
       "    </tr>\n",
       "    <tr>\n",
       "      <th>4</th>\n",
       "      <td>Мертвое царство</td>\n",
       "      <td>Андрианова А.</td>\n",
       "      <td>(Художественная литература, /catalog/books/khu...</td>\n",
       "      <td>Ивель — падальщица, бунтующая дочь из обеспече...</td>\n",
       "      <td>/catalog/book/2915730/</td>\n",
       "      <td>Animedia Company</td>\n",
       "      <td>Сказания Арконы</td>\n",
       "      <td>2022.0</td>\n",
       "      <td>978-80-7499-465-4</td>\n",
       "      <td>350.0</td>\n",
       "      <td>...</td>\n",
       "      <td>15.3</td>\n",
       "      <td>2.0</td>\n",
       "      <td>Твердая глянцевая</td>\n",
       "      <td>NaN</td>\n",
       "      <td>470.0</td>\n",
       "      <td>18+</td>\n",
       "      <td>1324</td>\n",
       "      <td>5.0</td>\n",
       "      <td>1</td>\n",
       "      <td>True</td>\n",
       "    </tr>\n",
       "    <tr>\n",
       "      <th>...</th>\n",
       "      <td>...</td>\n",
       "      <td>...</td>\n",
       "      <td>...</td>\n",
       "      <td>...</td>\n",
       "      <td>...</td>\n",
       "      <td>...</td>\n",
       "      <td>...</td>\n",
       "      <td>...</td>\n",
       "      <td>...</td>\n",
       "      <td>...</td>\n",
       "      <td>...</td>\n",
       "      <td>...</td>\n",
       "      <td>...</td>\n",
       "      <td>...</td>\n",
       "      <td>...</td>\n",
       "      <td>...</td>\n",
       "      <td>...</td>\n",
       "      <td>...</td>\n",
       "      <td>...</td>\n",
       "      <td>...</td>\n",
       "      <td>...</td>\n",
       "    </tr>\n",
       "    <tr>\n",
       "      <th>17199</th>\n",
       "      <td>Маркетинг без бюджета (с автографом)</td>\n",
       "      <td>Манн И.</td>\n",
       "      <td>(Книги с автографом, /catalog/books/knigi_s_av...</td>\n",
       "      <td>Идея написать книгу о маркетинге (почти или со...</td>\n",
       "      <td>/catalog/book/2901460/</td>\n",
       "      <td>Манн, Иванов и Фербер</td>\n",
       "      <td>None</td>\n",
       "      <td>2020.0</td>\n",
       "      <td>None</td>\n",
       "      <td>288.0</td>\n",
       "      <td>...</td>\n",
       "      <td>17.3</td>\n",
       "      <td>3.0</td>\n",
       "      <td>None</td>\n",
       "      <td>NaN</td>\n",
       "      <td>620.0</td>\n",
       "      <td>16+</td>\n",
       "      <td>None</td>\n",
       "      <td>3.5</td>\n",
       "      <td>2</td>\n",
       "      <td>False</td>\n",
       "    </tr>\n",
       "    <tr>\n",
       "      <th>17200</th>\n",
       "      <td>Гастро-книга: Пищеварение вдоль и поперек (с а...</td>\n",
       "      <td>Вялов С.</td>\n",
       "      <td>(Книги с автографом, /catalog/books/knigi_s_av...</td>\n",
       "      <td>Перед вами не учебник для врачей и не инструкц...</td>\n",
       "      <td>/catalog/book/2901459/</td>\n",
       "      <td>АСТ</td>\n",
       "      <td>Достоверная медицина</td>\n",
       "      <td>2020.0</td>\n",
       "      <td>None</td>\n",
       "      <td>304.0</td>\n",
       "      <td>...</td>\n",
       "      <td>14.5</td>\n",
       "      <td>2.0</td>\n",
       "      <td>None</td>\n",
       "      <td>NaN</td>\n",
       "      <td>420.0</td>\n",
       "      <td>12+</td>\n",
       "      <td>725</td>\n",
       "      <td>3.5</td>\n",
       "      <td>4</td>\n",
       "      <td>False</td>\n",
       "    </tr>\n",
       "    <tr>\n",
       "      <th>17201</th>\n",
       "      <td>Карнавал лжи (с автографом)</td>\n",
       "      <td>Сафонова Е.С.</td>\n",
       "      <td>(Книги с автографом, /catalog/books/knigi_s_av...</td>\n",
       "      <td>Полгода. Всего полгода спокойной жизни — столь...</td>\n",
       "      <td>/catalog/book/2901455/</td>\n",
       "      <td>Эксмо</td>\n",
       "      <td>None</td>\n",
       "      <td>2022.0</td>\n",
       "      <td>None</td>\n",
       "      <td>512.0</td>\n",
       "      <td>...</td>\n",
       "      <td>14.9</td>\n",
       "      <td>2.8</td>\n",
       "      <td>None</td>\n",
       "      <td>NaN</td>\n",
       "      <td>510.0</td>\n",
       "      <td>16+</td>\n",
       "      <td>625</td>\n",
       "      <td>5.0</td>\n",
       "      <td>3</td>\n",
       "      <td>False</td>\n",
       "    </tr>\n",
       "    <tr>\n",
       "      <th>17202</th>\n",
       "      <td>Когда завтра настанет вновь (с автографом)</td>\n",
       "      <td>Сафонова Е.С.</td>\n",
       "      <td>(Книги с автографом, /catalog/books/knigi_s_av...</td>\n",
       "      <td>В мире, где магия давно стала обыденностью и и...</td>\n",
       "      <td>/catalog/book/2901454/</td>\n",
       "      <td>Эксмо</td>\n",
       "      <td>None</td>\n",
       "      <td>2021.0</td>\n",
       "      <td>None</td>\n",
       "      <td>544.0</td>\n",
       "      <td>...</td>\n",
       "      <td>13.1</td>\n",
       "      <td>2.6</td>\n",
       "      <td>None</td>\n",
       "      <td>NaN</td>\n",
       "      <td>450.0</td>\n",
       "      <td>16+</td>\n",
       "      <td>575</td>\n",
       "      <td>5.0</td>\n",
       "      <td>3</td>\n",
       "      <td>False</td>\n",
       "    </tr>\n",
       "    <tr>\n",
       "      <th>17203</th>\n",
       "      <td>Лев Толстой очень любил детей. Псевдо-Хармс (с...</td>\n",
       "      <td>Доброхотова-Майкова Н., Пятницкий В.</td>\n",
       "      <td>(Книги с автографом, /catalog/books/knigi_s_av...</td>\n",
       "      <td>Анекдоты о русских писателях, приписывавшиеся ...</td>\n",
       "      <td>/catalog/book/2901452/</td>\n",
       "      <td>Бомбора</td>\n",
       "      <td>Искусство с блогерами</td>\n",
       "      <td>2020.0</td>\n",
       "      <td>None</td>\n",
       "      <td>288.0</td>\n",
       "      <td>...</td>\n",
       "      <td>13.0</td>\n",
       "      <td>1.3</td>\n",
       "      <td>None</td>\n",
       "      <td>NaN</td>\n",
       "      <td>430.0</td>\n",
       "      <td>16+</td>\n",
       "      <td>825</td>\n",
       "      <td>5.0</td>\n",
       "      <td>1</td>\n",
       "      <td>False</td>\n",
       "    </tr>\n",
       "  </tbody>\n",
       "</table>\n",
       "<p>17204 rows × 21 columns</p>\n",
       "</div>"
      ],
      "text/plain": [
       "                                                   title  \\\n",
       "0                                        Каменное сердце   \n",
       "1                                Однажды ночью в августе   \n",
       "2                                   Стамбульский бастард   \n",
       "3                                                Сюзанна   \n",
       "4                                        Мертвое царство   \n",
       "...                                                  ...   \n",
       "17199               Маркетинг без бюджета (с автографом)   \n",
       "17200  Гастро-книга: Пищеварение вдоль и поперек (с а...   \n",
       "17201                        Карнавал лжи (с автографом)   \n",
       "17202         Когда завтра настанет вновь (с автографом)   \n",
       "17203  Лев Толстой очень любил детей. Псевдо-Хармс (с...   \n",
       "\n",
       "                                     author  \\\n",
       "0                              К.Дж. Сэнсом   \n",
       "1                           Виктория Хислоп   \n",
       "2                                Элиф Шафак   \n",
       "3                               Бузлуков П.   \n",
       "4                             Андрианова А.   \n",
       "...                                     ...   \n",
       "17199                               Манн И.   \n",
       "17200                              Вялов С.   \n",
       "17201                         Сафонова Е.С.   \n",
       "17202                         Сафонова Е.С.   \n",
       "17203  Доброхотова-Майкова Н., Пятницкий В.   \n",
       "\n",
       "                                                   genre  \\\n",
       "0      (Художественная литература, /catalog/books/khu...   \n",
       "1      (Художественная литература, /catalog/books/khu...   \n",
       "2      (Художественная литература, /catalog/books/khu...   \n",
       "3      (Художественная литература, /catalog/books/khu...   \n",
       "4      (Художественная литература, /catalog/books/khu...   \n",
       "...                                                  ...   \n",
       "17199  (Книги с автографом, /catalog/books/knigi_s_av...   \n",
       "17200  (Книги с автографом, /catalog/books/knigi_s_av...   \n",
       "17201  (Книги с автографом, /catalog/books/knigi_s_av...   \n",
       "17202  (Книги с автографом, /catalog/books/knigi_s_av...   \n",
       "17203  (Книги с автографом, /catalog/books/knigi_s_av...   \n",
       "\n",
       "                                              annotation  \\\n",
       "0      Лето 1545 года. Франция стягивает армаду своих...   \n",
       "1      Спустя пятнадцать лет после того, как увидел с...   \n",
       "2      Роман «Стамбульский бастард» представляет исто...   \n",
       "3      Пусть родилась я не поэтом,\\r\\n— Пусть торгашо...   \n",
       "4      Ивель — падальщица, бунтующая дочь из обеспече...   \n",
       "...                                                  ...   \n",
       "17199  Идея написать книгу о маркетинге (почти или со...   \n",
       "17200  Перед вами не учебник для врачей и не инструкц...   \n",
       "17201  Полгода. Всего полгода спокойной жизни — столь...   \n",
       "17202  В мире, где магия давно стала обыденностью и и...   \n",
       "17203  Анекдоты о русских писателях, приписывавшиеся ...   \n",
       "\n",
       "                          url              publisher                   series  \\\n",
       "0      /catalog/book/2915753/                 Азбука             The Big Book   \n",
       "1      /catalog/book/2915752/                 Азбука             The Big Book   \n",
       "2      /catalog/book/2915751/                 Азбука             The Big Book   \n",
       "3      /catalog/book/2915731/              Де''Либри                     None   \n",
       "4      /catalog/book/2915730/       Animedia Company          Сказания Арконы   \n",
       "...                       ...                    ...                      ...   \n",
       "17199  /catalog/book/2901460/  Манн, Иванов и Фербер                     None   \n",
       "17200  /catalog/book/2901459/                    АСТ     Достоверная медицина   \n",
       "17201  /catalog/book/2901455/                  Эксмо                     None   \n",
       "17202  /catalog/book/2901454/                  Эксмо                     None   \n",
       "17203  /catalog/book/2901452/                Бомбора  Искусство с блогерами     \n",
       "\n",
       "         year               isbn  pages  ...  width  thickness  \\\n",
       "0      2022.0  978-5-389-21286-2  800.0  ...   11.5        3.0   \n",
       "1      2022.0  978-5-389-21284-8  384.0  ...   11.5        1.5   \n",
       "2      2022.0  978-5-389-21285-5  448.0  ...   11.5        1.7   \n",
       "3      2022.0  978-5-4491-1387-0  664.0  ...   15.3        4.0   \n",
       "4      2022.0  978-80-7499-465-4  350.0  ...   15.3        2.0   \n",
       "...       ...                ...    ...  ...    ...        ...   \n",
       "17199  2020.0               None  288.0  ...   17.3        3.0   \n",
       "17200  2020.0               None  304.0  ...   14.5        2.0   \n",
       "17201  2022.0               None  512.0  ...   14.9        2.8   \n",
       "17202  2021.0               None  544.0  ...   13.1        2.6   \n",
       "17203  2020.0               None  288.0  ...   13.0        1.3   \n",
       "\n",
       "              cover_type circulation  weight  age_restrictions  price rating  \\\n",
       "0       Мягкая глянцевая      5000.0   370.0               16+   267     5.0   \n",
       "1       Мягкая глянцевая      5000.0   180.0               16+   193     0.0   \n",
       "2       Мягкая глянцевая      5000.0   210.0               16+   193     0.0   \n",
       "3      Твердая глянцевая         NaN   920.0               16+   403     0.0   \n",
       "4      Твердая глянцевая         NaN   470.0               18+  1324     5.0   \n",
       "...                  ...         ...     ...               ...    ...    ...   \n",
       "17199               None         NaN   620.0               16+   None    3.5   \n",
       "17200               None         NaN   420.0               12+   725     3.5   \n",
       "17201               None         NaN   510.0               16+   625     5.0   \n",
       "17202               None         NaN   450.0               16+   575     5.0   \n",
       "17203               None         NaN   430.0               16+   825     5.0   \n",
       "\n",
       "       rating_count  in_stock  \n",
       "0                 1      True  \n",
       "1                 0      True  \n",
       "2                 0      True  \n",
       "3                 0     False  \n",
       "4                 1      True  \n",
       "...             ...       ...  \n",
       "17199             2     False  \n",
       "17200             4     False  \n",
       "17201             3     False  \n",
       "17202             3     False  \n",
       "17203             1     False  \n",
       "\n",
       "[17204 rows x 21 columns]"
      ]
     },
     "execution_count": 183,
     "metadata": {},
     "output_type": "execute_result"
    }
   ],
   "source": [
    "df = pd.DataFrame(books)\n",
    "df"
   ]
  },
  {
   "cell_type": "code",
   "execution_count": 194,
   "id": "c58d737e-13ac-4892-acf1-9cb69d063b59",
   "metadata": {},
   "outputs": [],
   "source": [
    "df['genre_name'] = df['genre'].apply(lambda x: x[0])\n",
    "df['genre_url'] = df['genre'].apply(lambda x: x[1])\n",
    "\n",
    "df.drop([\"genre\"], axis=1, inplace=True)"
   ]
  },
  {
   "cell_type": "code",
   "execution_count": 189,
   "id": "e920fd7d-e3fd-42c2-b3eb-80a6cf0dc1d3",
   "metadata": {},
   "outputs": [],
   "source": [
    "df['price'] = pd.to_numeric(df['price'])"
   ]
  },
  {
   "cell_type": "code",
   "execution_count": 196,
   "id": "0887d96c-ba13-4562-9720-c4a8bc3fb0f9",
   "metadata": {},
   "outputs": [],
   "source": [
    "df.to_csv(\"ch_books.csv\", index=False)"
   ]
  },
  {
   "cell_type": "code",
   "execution_count": 197,
   "id": "b1b06844-0e16-47fa-ba71-7d6dbcae651a",
   "metadata": {},
   "outputs": [
    {
     "data": {
      "text/html": [
       "<div>\n",
       "<style scoped>\n",
       "    .dataframe tbody tr th:only-of-type {\n",
       "        vertical-align: middle;\n",
       "    }\n",
       "\n",
       "    .dataframe tbody tr th {\n",
       "        vertical-align: top;\n",
       "    }\n",
       "\n",
       "    .dataframe thead th {\n",
       "        text-align: right;\n",
       "    }\n",
       "</style>\n",
       "<table border=\"1\" class=\"dataframe\">\n",
       "  <thead>\n",
       "    <tr style=\"text-align: right;\">\n",
       "      <th></th>\n",
       "      <th>title</th>\n",
       "      <th>author</th>\n",
       "      <th>annotation</th>\n",
       "      <th>url</th>\n",
       "      <th>publisher</th>\n",
       "      <th>series</th>\n",
       "      <th>year</th>\n",
       "      <th>isbn</th>\n",
       "      <th>pages</th>\n",
       "      <th>height</th>\n",
       "      <th>...</th>\n",
       "      <th>cover_type</th>\n",
       "      <th>circulation</th>\n",
       "      <th>weight</th>\n",
       "      <th>age_restrictions</th>\n",
       "      <th>price</th>\n",
       "      <th>rating</th>\n",
       "      <th>rating_count</th>\n",
       "      <th>in_stock</th>\n",
       "      <th>genre_name</th>\n",
       "      <th>genre_url</th>\n",
       "    </tr>\n",
       "  </thead>\n",
       "  <tbody>\n",
       "    <tr>\n",
       "      <th>0</th>\n",
       "      <td>Каменное сердце</td>\n",
       "      <td>К.Дж. Сэнсом</td>\n",
       "      <td>Лето 1545 года. Франция стягивает армаду своих...</td>\n",
       "      <td>/catalog/book/2915753/</td>\n",
       "      <td>Азбука</td>\n",
       "      <td>The Big Book</td>\n",
       "      <td>2022.0</td>\n",
       "      <td>978-5-389-21286-2</td>\n",
       "      <td>800.0</td>\n",
       "      <td>18.0</td>\n",
       "      <td>...</td>\n",
       "      <td>Мягкая глянцевая</td>\n",
       "      <td>5000.0</td>\n",
       "      <td>370.0</td>\n",
       "      <td>16+</td>\n",
       "      <td>267.0</td>\n",
       "      <td>5.0</td>\n",
       "      <td>1</td>\n",
       "      <td>True</td>\n",
       "      <td>Художественная литература</td>\n",
       "      <td>/catalog/books/khudozhestvennaya_literatura-9657/</td>\n",
       "    </tr>\n",
       "    <tr>\n",
       "      <th>1</th>\n",
       "      <td>Однажды ночью в августе</td>\n",
       "      <td>Виктория Хислоп</td>\n",
       "      <td>Спустя пятнадцать лет после того, как увидел с...</td>\n",
       "      <td>/catalog/book/2915752/</td>\n",
       "      <td>Азбука</td>\n",
       "      <td>The Big Book</td>\n",
       "      <td>2022.0</td>\n",
       "      <td>978-5-389-21284-8</td>\n",
       "      <td>384.0</td>\n",
       "      <td>18.0</td>\n",
       "      <td>...</td>\n",
       "      <td>Мягкая глянцевая</td>\n",
       "      <td>5000.0</td>\n",
       "      <td>180.0</td>\n",
       "      <td>16+</td>\n",
       "      <td>193.0</td>\n",
       "      <td>0.0</td>\n",
       "      <td>0</td>\n",
       "      <td>True</td>\n",
       "      <td>Художественная литература</td>\n",
       "      <td>/catalog/books/khudozhestvennaya_literatura-9657/</td>\n",
       "    </tr>\n",
       "    <tr>\n",
       "      <th>2</th>\n",
       "      <td>Стамбульский бастард</td>\n",
       "      <td>Элиф Шафак</td>\n",
       "      <td>Роман «Стамбульский бастард» представляет исто...</td>\n",
       "      <td>/catalog/book/2915751/</td>\n",
       "      <td>Азбука</td>\n",
       "      <td>The Big Book</td>\n",
       "      <td>2022.0</td>\n",
       "      <td>978-5-389-21285-5</td>\n",
       "      <td>448.0</td>\n",
       "      <td>18.0</td>\n",
       "      <td>...</td>\n",
       "      <td>Мягкая глянцевая</td>\n",
       "      <td>5000.0</td>\n",
       "      <td>210.0</td>\n",
       "      <td>16+</td>\n",
       "      <td>193.0</td>\n",
       "      <td>0.0</td>\n",
       "      <td>0</td>\n",
       "      <td>True</td>\n",
       "      <td>Художественная литература</td>\n",
       "      <td>/catalog/books/khudozhestvennaya_literatura-9657/</td>\n",
       "    </tr>\n",
       "    <tr>\n",
       "      <th>3</th>\n",
       "      <td>Сюзанна</td>\n",
       "      <td>Бузлуков П.</td>\n",
       "      <td>Пусть родилась я не поэтом,\\r\\n— Пусть торгашо...</td>\n",
       "      <td>/catalog/book/2915731/</td>\n",
       "      <td>Де''Либри</td>\n",
       "      <td>NaN</td>\n",
       "      <td>2022.0</td>\n",
       "      <td>978-5-4491-1387-0</td>\n",
       "      <td>664.0</td>\n",
       "      <td>21.7</td>\n",
       "      <td>...</td>\n",
       "      <td>Твердая глянцевая</td>\n",
       "      <td>NaN</td>\n",
       "      <td>920.0</td>\n",
       "      <td>16+</td>\n",
       "      <td>403.0</td>\n",
       "      <td>0.0</td>\n",
       "      <td>0</td>\n",
       "      <td>False</td>\n",
       "      <td>Художественная литература</td>\n",
       "      <td>/catalog/books/khudozhestvennaya_literatura-9657/</td>\n",
       "    </tr>\n",
       "    <tr>\n",
       "      <th>4</th>\n",
       "      <td>Мертвое царство</td>\n",
       "      <td>Андрианова А.</td>\n",
       "      <td>Ивель — падальщица, бунтующая дочь из обеспече...</td>\n",
       "      <td>/catalog/book/2915730/</td>\n",
       "      <td>Animedia Company</td>\n",
       "      <td>Сказания Арконы</td>\n",
       "      <td>2022.0</td>\n",
       "      <td>978-80-7499-465-4</td>\n",
       "      <td>350.0</td>\n",
       "      <td>21.7</td>\n",
       "      <td>...</td>\n",
       "      <td>Твердая глянцевая</td>\n",
       "      <td>NaN</td>\n",
       "      <td>470.0</td>\n",
       "      <td>18+</td>\n",
       "      <td>1324.0</td>\n",
       "      <td>5.0</td>\n",
       "      <td>1</td>\n",
       "      <td>True</td>\n",
       "      <td>Художественная литература</td>\n",
       "      <td>/catalog/books/khudozhestvennaya_literatura-9657/</td>\n",
       "    </tr>\n",
       "  </tbody>\n",
       "</table>\n",
       "<p>5 rows × 22 columns</p>\n",
       "</div>"
      ],
      "text/plain": [
       "                     title           author  \\\n",
       "0          Каменное сердце     К.Дж. Сэнсом   \n",
       "1  Однажды ночью в августе  Виктория Хислоп   \n",
       "2     Стамбульский бастард       Элиф Шафак   \n",
       "3                  Сюзанна      Бузлуков П.   \n",
       "4          Мертвое царство    Андрианова А.   \n",
       "\n",
       "                                          annotation                     url  \\\n",
       "0  Лето 1545 года. Франция стягивает армаду своих...  /catalog/book/2915753/   \n",
       "1  Спустя пятнадцать лет после того, как увидел с...  /catalog/book/2915752/   \n",
       "2  Роман «Стамбульский бастард» представляет исто...  /catalog/book/2915751/   \n",
       "3  Пусть родилась я не поэтом,\\r\\n— Пусть торгашо...  /catalog/book/2915731/   \n",
       "4  Ивель — падальщица, бунтующая дочь из обеспече...  /catalog/book/2915730/   \n",
       "\n",
       "          publisher           series    year               isbn  pages  \\\n",
       "0            Азбука     The Big Book  2022.0  978-5-389-21286-2  800.0   \n",
       "1            Азбука     The Big Book  2022.0  978-5-389-21284-8  384.0   \n",
       "2            Азбука     The Big Book  2022.0  978-5-389-21285-5  448.0   \n",
       "3         Де''Либри              NaN  2022.0  978-5-4491-1387-0  664.0   \n",
       "4  Animedia Company  Сказания Арконы  2022.0  978-80-7499-465-4  350.0   \n",
       "\n",
       "   height  ...         cover_type  circulation weight  age_restrictions  \\\n",
       "0    18.0  ...   Мягкая глянцевая       5000.0  370.0               16+   \n",
       "1    18.0  ...   Мягкая глянцевая       5000.0  180.0               16+   \n",
       "2    18.0  ...   Мягкая глянцевая       5000.0  210.0               16+   \n",
       "3    21.7  ...  Твердая глянцевая          NaN  920.0               16+   \n",
       "4    21.7  ...  Твердая глянцевая          NaN  470.0               18+   \n",
       "\n",
       "    price rating  rating_count  in_stock                 genre_name  \\\n",
       "0   267.0    5.0             1      True  Художественная литература   \n",
       "1   193.0    0.0             0      True  Художественная литература   \n",
       "2   193.0    0.0             0      True  Художественная литература   \n",
       "3   403.0    0.0             0     False  Художественная литература   \n",
       "4  1324.0    5.0             1      True  Художественная литература   \n",
       "\n",
       "                                           genre_url  \n",
       "0  /catalog/books/khudozhestvennaya_literatura-9657/  \n",
       "1  /catalog/books/khudozhestvennaya_literatura-9657/  \n",
       "2  /catalog/books/khudozhestvennaya_literatura-9657/  \n",
       "3  /catalog/books/khudozhestvennaya_literatura-9657/  \n",
       "4  /catalog/books/khudozhestvennaya_literatura-9657/  \n",
       "\n",
       "[5 rows x 22 columns]"
      ]
     },
     "execution_count": 197,
     "metadata": {},
     "output_type": "execute_result"
    }
   ],
   "source": [
    "df = pd.read_csv(\"ch_books.csv\")\n",
    "df.head()"
   ]
  },
  {
   "cell_type": "markdown",
   "id": "a35434b0-c014-480d-bdfc-f0504188b697",
   "metadata": {},
   "source": [
    "# Исследование данных"
   ]
  },
  {
   "cell_type": "code",
   "execution_count": 213,
   "id": "41a3776f-487e-48c1-8e67-24443359eab9",
   "metadata": {},
   "outputs": [],
   "source": [
    "import matplotlib.pyplot as plt\n",
    "import seaborn as sns\n",
    "\n",
    "sns.set()"
   ]
  },
  {
   "cell_type": "markdown",
   "id": "74ad0945-06f8-421f-943e-0a5ea92c1dea",
   "metadata": {},
   "source": [
    "## Выбросы"
   ]
  },
  {
   "cell_type": "markdown",
   "id": "4fc47d3b-2e79-4cab-9729-bfd16567f046",
   "metadata": {},
   "source": [
    "> Книга изданная в 3000 году!"
   ]
  },
  {
   "cell_type": "code",
   "execution_count": 234,
   "id": "23f19508-abb5-4db3-8bc5-97d0c89a3856",
   "metadata": {},
   "outputs": [
    {
     "data": {
      "text/html": [
       "<div>\n",
       "<style scoped>\n",
       "    .dataframe tbody tr th:only-of-type {\n",
       "        vertical-align: middle;\n",
       "    }\n",
       "\n",
       "    .dataframe tbody tr th {\n",
       "        vertical-align: top;\n",
       "    }\n",
       "\n",
       "    .dataframe thead th {\n",
       "        text-align: right;\n",
       "    }\n",
       "</style>\n",
       "<table border=\"1\" class=\"dataframe\">\n",
       "  <thead>\n",
       "    <tr style=\"text-align: right;\">\n",
       "      <th></th>\n",
       "      <th>title</th>\n",
       "      <th>author</th>\n",
       "      <th>annotation</th>\n",
       "      <th>url</th>\n",
       "      <th>publisher</th>\n",
       "      <th>series</th>\n",
       "      <th>year</th>\n",
       "      <th>isbn</th>\n",
       "      <th>pages</th>\n",
       "      <th>height</th>\n",
       "      <th>...</th>\n",
       "      <th>cover_type</th>\n",
       "      <th>circulation</th>\n",
       "      <th>weight</th>\n",
       "      <th>age_restrictions</th>\n",
       "      <th>price</th>\n",
       "      <th>rating</th>\n",
       "      <th>rating_count</th>\n",
       "      <th>in_stock</th>\n",
       "      <th>genre_name</th>\n",
       "      <th>genre_url</th>\n",
       "    </tr>\n",
       "  </thead>\n",
       "  <tbody>\n",
       "    <tr>\n",
       "      <th>2342</th>\n",
       "      <td>Первоклассные смешинки</td>\n",
       "      <td>Ирина Гурина</td>\n",
       "      <td>Жизнь первоклассника Дениса наполнена забавным...</td>\n",
       "      <td>/catalog/book/2903096/</td>\n",
       "      <td>Феникс-Премьер</td>\n",
       "      <td>Школа по приколу</td>\n",
       "      <td>3000.0</td>\n",
       "      <td>978-5-222-37637-9</td>\n",
       "      <td>111.0</td>\n",
       "      <td>23.5</td>\n",
       "      <td>...</td>\n",
       "      <td>Твердая бумажная</td>\n",
       "      <td>NaN</td>\n",
       "      <td>350.0</td>\n",
       "      <td>0+</td>\n",
       "      <td>730.0</td>\n",
       "      <td>0.0</td>\n",
       "      <td>0</td>\n",
       "      <td>True</td>\n",
       "      <td>Книги для детей</td>\n",
       "      <td>/catalog/books/knigi_dlya_detey-9072/</td>\n",
       "    </tr>\n",
       "  </tbody>\n",
       "</table>\n",
       "<p>1 rows × 22 columns</p>\n",
       "</div>"
      ],
      "text/plain": [
       "                       title        author  \\\n",
       "2342  Первоклассные смешинки  Ирина Гурина   \n",
       "\n",
       "                                             annotation  \\\n",
       "2342  Жизнь первоклассника Дениса наполнена забавным...   \n",
       "\n",
       "                         url       publisher            series    year  \\\n",
       "2342  /catalog/book/2903096/  Феникс-Премьер  Школа по приколу  3000.0   \n",
       "\n",
       "                   isbn  pages  height  ...        cover_type  circulation  \\\n",
       "2342  978-5-222-37637-9  111.0    23.5  ...  Твердая бумажная          NaN   \n",
       "\n",
       "     weight  age_restrictions  price rating  rating_count  in_stock  \\\n",
       "2342  350.0                0+  730.0    0.0             0      True   \n",
       "\n",
       "           genre_name                              genre_url  \n",
       "2342  Книги для детей  /catalog/books/knigi_dlya_detey-9072/  \n",
       "\n",
       "[1 rows x 22 columns]"
      ]
     },
     "execution_count": 234,
     "metadata": {},
     "output_type": "execute_result"
    }
   ],
   "source": [
    "df[df['year'] == df['year'].max()]"
   ]
  },
  {
   "cell_type": "markdown",
   "id": "80b618e7-9bcb-4879-896f-79b50495b21c",
   "metadata": {},
   "source": [
    "Удалим все книги, \"вышедшие\" после 2022 года."
   ]
  },
  {
   "cell_type": "code",
   "execution_count": 244,
   "id": "7e467ca6-ceae-4dac-a678-cb56669cc5d0",
   "metadata": {},
   "outputs": [],
   "source": [
    "df = df[df['year'] <= 2022]"
   ]
  },
  {
   "cell_type": "markdown",
   "id": "7147a620-ba7c-4564-8d54-654c4efa996c",
   "metadata": {},
   "source": [
    "> Самая тяжелая книга весит 616 кг.? Опять ошибка"
   ]
  },
  {
   "cell_type": "code",
   "execution_count": 245,
   "id": "4bd2cbd3-9636-4450-a392-fbc11f9e8ab8",
   "metadata": {},
   "outputs": [
    {
     "data": {
      "text/html": [
       "<div>\n",
       "<style scoped>\n",
       "    .dataframe tbody tr th:only-of-type {\n",
       "        vertical-align: middle;\n",
       "    }\n",
       "\n",
       "    .dataframe tbody tr th {\n",
       "        vertical-align: top;\n",
       "    }\n",
       "\n",
       "    .dataframe thead th {\n",
       "        text-align: right;\n",
       "    }\n",
       "</style>\n",
       "<table border=\"1\" class=\"dataframe\">\n",
       "  <thead>\n",
       "    <tr style=\"text-align: right;\">\n",
       "      <th></th>\n",
       "      <th>title</th>\n",
       "      <th>weight</th>\n",
       "    </tr>\n",
       "  </thead>\n",
       "  <tbody>\n",
       "    <tr>\n",
       "      <th>12338</th>\n",
       "      <td>Финляндская Православная Церковь в 1957-1988 г...</td>\n",
       "      <td>616000.0</td>\n",
       "    </tr>\n",
       "  </tbody>\n",
       "</table>\n",
       "</div>"
      ],
      "text/plain": [
       "                                                   title    weight\n",
       "12338  Финляндская Православная Церковь в 1957-1988 г...  616000.0"
      ]
     },
     "execution_count": 245,
     "metadata": {},
     "output_type": "execute_result"
    }
   ],
   "source": [
    "df[df['weight'] == df['weight'].max()][['title', 'weight']]"
   ]
  },
  {
   "cell_type": "code",
   "execution_count": 246,
   "id": "2d805fce-0894-4819-b867-f8acda766760",
   "metadata": {},
   "outputs": [],
   "source": [
    "df = df[df['weight'] != df['weight'].max()]"
   ]
  },
  {
   "cell_type": "markdown",
   "id": "aad48ac2-fa4e-4edd-9805-ab9151311d67",
   "metadata": {},
   "source": [
    "### Самые \"дорогие\" жанры\n",
    "\n",
    "Подарочные издания, как и ожидается, входит в топ самых дорогих категорий товаров  \n",
    "Образование и книги для детей - самые дешевые"
   ]
  },
  {
   "cell_type": "code",
   "execution_count": 247,
   "id": "2ae82a96-4d79-4a9b-a085-9dab052732b9",
   "metadata": {},
   "outputs": [
    {
     "data": {
      "text/plain": [
       "genre_name\n",
       "Подарочные издания             4964.091137\n",
       "Эзотерика                      1337.004181\n",
       "Наука и техника                1318.661358\n",
       "Искусство                      1149.658027\n",
       "Деловая литература             1051.949875\n",
       "Общество                        957.904641\n",
       "Увлечения                       946.407065\n",
       "Книги на иностранных языках     922.570117\n",
       "Психология                      846.625105\n",
       "Философия и религия             810.966499\n",
       "Книги с автографом              801.431734\n",
       "Красота. Здоровье. Спорт        776.757322\n",
       "Художественная литература       714.461153\n",
       "Книги для детей                 462.654971\n",
       "Образование                     404.204766\n",
       "Name: price, dtype: float64"
      ]
     },
     "execution_count": 247,
     "metadata": {},
     "output_type": "execute_result"
    }
   ],
   "source": [
    "df.groupby(\"genre_name\")['price'].mean().sort_values(ascending=False)"
   ]
  },
  {
   "cell_type": "code",
   "execution_count": 248,
   "id": "bb4babd4-62e0-455a-8660-8e4ea043168c",
   "metadata": {},
   "outputs": [
    {
     "data": {
      "text/plain": [
       "author\n",
       "Горохова Ю. (ред.)                                                                                      38\n",
       "Всеволод Костров                                                                                        30\n",
       "В.В. Кузнецова                                                                                          29\n",
       "Донцова Д.                                                                                              29\n",
       "Фасхутдинов Р. (ред.)                                                                                   26\n",
       "                                                                                                        ..\n",
       "Игорь Долбышев                                                                                           1\n",
       "Игорь Кожевников                                                                                         1\n",
       "Игорь Лисов                                                                                              1\n",
       "Абдуллаева Ольга Баходыровна, Акмалетдинова Юлия Михайловна, Альтерман Анастасия Александровна и др.     1\n",
       "фон Зигесар С.                                                                                           1\n",
       "Length: 12510, dtype: int64"
      ]
     },
     "execution_count": 248,
     "metadata": {},
     "output_type": "execute_result"
    }
   ],
   "source": [
    "df.groupby('author').size().sort_values(ascending=False)"
   ]
  },
  {
   "cell_type": "code",
   "execution_count": 249,
   "id": "c85e6282-2b2f-43af-b205-d935eb4970f6",
   "metadata": {},
   "outputs": [
    {
     "data": {
      "text/plain": [
       "publisher\n",
       "АСТ                        1844\n",
       "Эксмо                      1478\n",
       "Бомбора                     574\n",
       "Лань                        302\n",
       "Проспект                    278\n",
       "                           ... \n",
       "Аверсэв                       1\n",
       "Авиалогистика                 1\n",
       "Аврора (СПб.)                 1\n",
       "МТО Инфо                      1\n",
       "Издатель Цимберов Р. М.       1\n",
       "Length: 1189, dtype: int64"
      ]
     },
     "execution_count": 249,
     "metadata": {},
     "output_type": "execute_result"
    }
   ],
   "source": [
    "df.groupby('publisher').size().sort_values(ascending=False)"
   ]
  },
  {
   "cell_type": "code",
   "execution_count": 261,
   "id": "8cdac8b1-faaf-4db3-8994-7db1eb89a25b",
   "metadata": {},
   "outputs": [
    {
     "data": {
      "text/plain": [
       "<seaborn.axisgrid.FacetGrid at 0x220f979b3a0>"
      ]
     },
     "execution_count": 261,
     "metadata": {},
     "output_type": "execute_result"
    },
    {
     "data": {
      "image/png": "[encoded data removed]",
      "text/plain": [
       "<Figure size 500x500 with 1 Axes>"
      ]
     },
     "metadata": {},
     "output_type": "display_data"
    }
   ],
   "source": [
    "sns.displot(df['pages'])"
   ]
  },
  {
   "cell_type": "markdown",
   "id": "f9e3ba82-d78b-42ab-9386-a75f4c653e6c",
   "metadata": {},
   "source": [
    "Пользователи магазина \"Читай-город\" очень охотно ставят книгам максимальную оценку"
   ]
  },
  {
   "cell_type": "code",
   "execution_count": 251,
   "id": "3fcdf5f6-322a-423f-99d0-db98ebcb86e1",
   "metadata": {},
   "outputs": [
    {
     "data": {
      "text/plain": [
       "<AxesSubplot:xlabel='rating', ylabel='Count'>"
      ]
     },
     "execution_count": 251,
     "metadata": {},
     "output_type": "execute_result"
    },
    {
     "data": {
      "image/png": "[encoded data removed]",
      "text/plain": [
       "<Figure size 640x480 with 1 Axes>"
      ]
     },
     "metadata": {},
     "output_type": "display_data"
    }
   ],
   "source": [
    "sns.histplot(df[df['rating_count'] != 0]['rating'])"
   ]
  },
  {
   "cell_type": "markdown",
   "id": "d145b526-21d2-4031-a8cd-42367dc332a4",
   "metadata": {},
   "source": [
    "> Ожидаемо, цена книги зависит от ее веса и количества страниц"
   ]
  },
  {
   "cell_type": "code",
   "execution_count": 260,
   "id": "00b813ab-5854-4852-a627-8dcc59bbfa9a",
   "metadata": {},
   "outputs": [
    {
     "data": {
      "text/plain": [
       "<AxesSubplot:xlabel='weight', ylabel='price'>"
      ]
     },
     "execution_count": 260,
     "metadata": {},
     "output_type": "execute_result"
    },
    {
     "data": {
      "image/png": "[encoded data removed]",
      "text/plain": [
       "<Figure size 640x480 with 1 Axes>"
      ]
     },
     "metadata": {},
     "output_type": "display_data"
    }
   ],
   "source": [
    "sns.regplot(data=df, x='weight', y='price', scatter_kws={'s': 5, 'alpha': 0.5})"
   ]
  },
  {
   "cell_type": "code",
   "execution_count": 268,
   "id": "686f3a44-bc46-4799-9a24-2cd9f279a9f4",
   "metadata": {},
   "outputs": [
    {
     "data": {
      "text/plain": [
       "<AxesSubplot:xlabel='pages', ylabel='price'>"
      ]
     },
     "execution_count": 268,
     "metadata": {},
     "output_type": "execute_result"
    },
    {
     "data": {
      "image/png": "[encoded data removed]",
      "text/plain": [
       "<Figure size 640x480 with 1 Axes>"
      ]
     },
     "metadata": {},
     "output_type": "display_data"
    }
   ],
   "source": [
    "sns.regplot(data=df, x='pages', y='price', scatter_kws={'s': 5, 'alpha': 0.5})"
   ]
  },
  {
   "cell_type": "code",
   "execution_count": 237,
   "id": "0a3cb6f4-9017-4795-b6b2-88adefb369f7",
   "metadata": {},
   "outputs": [
    {
     "data": {
      "image/png": "[encoded data removed]",
      "text/plain": [
       "<Figure size 640x480 with 1 Axes>"
      ]
     },
     "metadata": {},
     "output_type": "display_data"
    }
   ],
   "source": [
    "plt.hist(df[(df['year'] < 2022) & (df['year'] > 2000)]['year'], bins=100);"
   ]
  },
  {
   "cell_type": "code",
   "execution_count": null,
   "id": "6ec95f8b-69b1-4515-80cb-d804e3039620",
   "metadata": {},
   "outputs": [],
   "source": []
  }
 ],
 "metadata": {
  "kernelspec": {
   "display_name": "Python 3 (ipykernel)",
   "language": "python",
   "name": "python3"
  },
  "language_info": {
   "codemirror_mode": {
    "name": "ipython",
    "version": 3
   },
   "file_extension": ".py",
   "mimetype": "text/x-python",
   "name": "python",
   "nbconvert_exporter": "python",
   "pygments_lexer": "ipython3",
   "version": "3.9.7"
  }
 },
 "nbformat": 4,
 "nbformat_minor": 5
}
